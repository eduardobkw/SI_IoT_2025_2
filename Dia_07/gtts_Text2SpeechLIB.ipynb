{
  "nbformat": 4,
  "nbformat_minor": 0,
  "metadata": {
    "colab": {
      "private_outputs": true,
      "provenance": []
    },
    "kernelspec": {
      "name": "python3",
      "display_name": "Python 3"
    },
    "language_info": {
      "name": "python"
    }
  },
  "cells": [
    {
      "cell_type": "code",
      "execution_count": null,
      "metadata": {
        "id": "tXaVANqt6Ted"
      },
      "outputs": [],
      "source": [
        "!pip install --upgrade gTTS\n",
        "from gtts import gTTS"
      ]
    },
    {
      "cell_type": "code",
      "source": [
        "help(gTTS)"
      ],
      "metadata": {
        "id": "A-JBXEGM64FD"
      },
      "execution_count": null,
      "outputs": []
    },
    {
      "cell_type": "code",
      "source": [
        "myobj1 = gTTS(text= \"Olá, Professor Eduardo\", lang='pt', slow=False)\n",
        "name1 = \"du.mp3\"\n",
        "myobj1.save(name1)   #Saving the converted audio in a mp3 file\n",
        "# Playing the converted file\n",
        "audio_file = open(name1, 'rb')\n",
        "#audio_bytes = audio_file.read()\n",
        "#st.audio(audio_bytes, format='audio/ogg',start_time=0)"
      ],
      "metadata": {
        "id": "lLRt8IPD7zjB"
      },
      "execution_count": null,
      "outputs": []
    },
    {
      "cell_type": "code",
      "source": [
        "!pip install pygame"
      ],
      "metadata": {
        "id": "AQN42SlA8g_l"
      },
      "execution_count": null,
      "outputs": []
    },
    {
      "cell_type": "code",
      "source": [
        "from pygame import mixer, time\n",
        "\n",
        "mixer.pre_init(44100, -16, 2, 2048)\n",
        "mixer.init()\n",
        "\n",
        "data = open('\\teste01.mp3', 'rb').read()\n",
        "sound = mixer.Sound(buffer=data)\n",
        "\n",
        "audio = sound.play()\n",
        "while audio.get_busy():\n",
        "    time.Clock().tick(10)"
      ],
      "metadata": {
        "id": "sXiTCUJ68b6V"
      },
      "execution_count": null,
      "outputs": []
    }
  ]
}